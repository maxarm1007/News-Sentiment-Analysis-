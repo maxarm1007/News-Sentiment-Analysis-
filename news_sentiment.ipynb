{
 "cells": [
  {
   "cell_type": "code",
   "execution_count": 60,
   "metadata": {},
   "outputs": [],
   "source": [
    "from bs4 import BeautifulSoup\n",
    "from urllib.request import urlopen, Request\n",
    "import pandas as pd\n",
    "import matplotlib.pyplot as plt"
   ]
  },
  {
   "cell_type": "code",
   "execution_count": 61,
   "metadata": {},
   "outputs": [],
   "source": [
    "finviz_url = 'https://finviz.com/quote.ashx?t='\n",
    "tickers = ['NVDA', 'GOOG', 'MSFT', 'TSLA',]\n",
    "\n"
   ]
  },
  {
   "cell_type": "code",
   "execution_count": 62,
   "metadata": {},
   "outputs": [],
   "source": [
    "news_tables = {}\n",
    "for ticker in tickers:\n",
    "    url = finviz_url + ticker \n",
    "    \n",
    "    req = Request(url=url, headers={'user-agent': 'my-app'})\n",
    "    response = urlopen(req)\n",
    "\n",
    "    html = BeautifulSoup(response, features='html.parser')\n",
    "    news_table = html.find(id='news-table')\n",
    "    news_tables[ticker] = news_table"
   ]
  },
  {
   "cell_type": "code",
   "execution_count": null,
   "metadata": {},
   "outputs": [
    {
     "data": {
      "text/html": [
       "<div>\n",
       "<style scoped>\n",
       "    .dataframe tbody tr th:only-of-type {\n",
       "        vertical-align: middle;\n",
       "    }\n",
       "\n",
       "    .dataframe tbody tr th {\n",
       "        vertical-align: top;\n",
       "    }\n",
       "\n",
       "    .dataframe thead th {\n",
       "        text-align: right;\n",
       "    }\n",
       "</style>\n",
       "<table border=\"1\" class=\"dataframe\">\n",
       "  <thead>\n",
       "    <tr style=\"text-align: right;\">\n",
       "      <th></th>\n",
       "      <th>ticker</th>\n",
       "      <th>date</th>\n",
       "      <th>time</th>\n",
       "      <th>title</th>\n",
       "    </tr>\n",
       "  </thead>\n",
       "  <tbody>\n",
       "    <tr>\n",
       "      <th>0</th>\n",
       "      <td>NVDA</td>\n",
       "      <td>Today</td>\n",
       "      <td>03:45PM</td>\n",
       "      <td>NVIDIAs (NVDA) Role in a $500B AI Future: Buy ...</td>\n",
       "    </tr>\n",
       "    <tr>\n",
       "      <th>1</th>\n",
       "      <td>NVDA</td>\n",
       "      <td>None</td>\n",
       "      <td>03:21PM</td>\n",
       "      <td>Magnificent Seven Stocks: Nvidia Sells Off, Te...</td>\n",
       "    </tr>\n",
       "    <tr>\n",
       "      <th>2</th>\n",
       "      <td>NVDA</td>\n",
       "      <td>None</td>\n",
       "      <td>12:38PM</td>\n",
       "      <td>Alphabet Has an Nvidia-Like Business. It Could...</td>\n",
       "    </tr>\n",
       "    <tr>\n",
       "      <th>3</th>\n",
       "      <td>NVDA</td>\n",
       "      <td>None</td>\n",
       "      <td>12:25PM</td>\n",
       "      <td>Reliance plans world's biggest AI data center ...</td>\n",
       "    </tr>\n",
       "    <tr>\n",
       "      <th>4</th>\n",
       "      <td>NVDA</td>\n",
       "      <td>None</td>\n",
       "      <td>12:06PM</td>\n",
       "      <td>Nvidia Stock Drops as Meta Unveils Bold AI Amb...</td>\n",
       "    </tr>\n",
       "    <tr>\n",
       "      <th>...</th>\n",
       "      <td>...</td>\n",
       "      <td>...</td>\n",
       "      <td>...</td>\n",
       "      <td>...</td>\n",
       "    </tr>\n",
       "    <tr>\n",
       "      <th>395</th>\n",
       "      <td>TSLA</td>\n",
       "      <td>None</td>\n",
       "      <td>10:20AM</td>\n",
       "      <td>Ramaswamy Leaves DOGE. Its Up to Elon Musk to ...</td>\n",
       "    </tr>\n",
       "    <tr>\n",
       "      <th>396</th>\n",
       "      <td>TSLA</td>\n",
       "      <td>None</td>\n",
       "      <td>10:19AM</td>\n",
       "      <td>Trump Orders Removal of EV-Favoring Policies a...</td>\n",
       "    </tr>\n",
       "    <tr>\n",
       "      <th>397</th>\n",
       "      <td>TSLA</td>\n",
       "      <td>None</td>\n",
       "      <td>10:15AM</td>\n",
       "      <td>Elon Musk, The Richest Man In The World, Is Es...</td>\n",
       "    </tr>\n",
       "    <tr>\n",
       "      <th>398</th>\n",
       "      <td>TSLA</td>\n",
       "      <td>None</td>\n",
       "      <td>10:00AM</td>\n",
       "      <td>Guest commentary: The Donald Trump-Elon Musk h...</td>\n",
       "    </tr>\n",
       "    <tr>\n",
       "      <th>399</th>\n",
       "      <td>TSLA</td>\n",
       "      <td>None</td>\n",
       "      <td>09:00AM</td>\n",
       "      <td>Is Most-Watched Stock Tesla, Inc. (TSLA) Worth...</td>\n",
       "    </tr>\n",
       "  </tbody>\n",
       "</table>\n",
       "<p>400 rows × 4 columns</p>\n",
       "</div>"
      ],
      "text/plain": [
       "    ticker   date     time                                              title\n",
       "0     NVDA  Today  03:45PM  NVIDIAs (NVDA) Role in a $500B AI Future: Buy ...\n",
       "1     NVDA   None  03:21PM  Magnificent Seven Stocks: Nvidia Sells Off, Te...\n",
       "2     NVDA   None  12:38PM  Alphabet Has an Nvidia-Like Business. It Could...\n",
       "3     NVDA   None  12:25PM  Reliance plans world's biggest AI data center ...\n",
       "4     NVDA   None  12:06PM  Nvidia Stock Drops as Meta Unveils Bold AI Amb...\n",
       "..     ...    ...      ...                                                ...\n",
       "395   TSLA   None  10:20AM  Ramaswamy Leaves DOGE. Its Up to Elon Musk to ...\n",
       "396   TSLA   None  10:19AM  Trump Orders Removal of EV-Favoring Policies a...\n",
       "397   TSLA   None  10:15AM  Elon Musk, The Richest Man In The World, Is Es...\n",
       "398   TSLA   None  10:00AM  Guest commentary: The Donald Trump-Elon Musk h...\n",
       "399   TSLA   None  09:00AM  Is Most-Watched Stock Tesla, Inc. (TSLA) Worth...\n",
       "\n",
       "[400 rows x 4 columns]"
      ]
     },
     "execution_count": 63,
     "metadata": {},
     "output_type": "execute_result"
    }
   ],
   "source": [
    "parsed_data = []\n",
    "\n",
    "for ticker, news_table in news_tables.items():\n",
    "\n",
    "    for row in news_table.findAll('tr'):\n",
    "\n",
    "        title = row.a.text.strip() \n",
    "        date_data = row.td.text.strip().split(' ')  \n",
    "\n",
    "        if len(date_data) == 1: \n",
    "            date = None  \n",
    "            time = date_data[0].strip()\n",
    "        else:  \n",
    "            date = date_data[0].strip()\n",
    "            time = date_data[1].strip()\n",
    "\n",
    "     \n",
    "        parsed_data.append([ticker, date, time, title])\n",
    "\n",
    "\n",
    "df = pd.DataFrame(parsed_data, columns=['ticker', 'date', 'time', 'title'])\n",
    "df"
   ]
  },
  {
   "cell_type": "code",
   "execution_count": 64,
   "metadata": {},
   "outputs": [],
   "source": [
    "from nltk.sentiment import SentimentIntensityAnalyzer"
   ]
  },
  {
   "cell_type": "code",
   "execution_count": 65,
   "metadata": {},
   "outputs": [],
   "source": [
    "vader = SentimentIntensityAnalyzer()"
   ]
  },
  {
   "cell_type": "code",
   "execution_count": null,
   "metadata": {},
   "outputs": [
    {
     "name": "stderr",
     "output_type": "stream",
     "text": [
      "C:\\Users\\maxar\\AppData\\Local\\Temp\\ipykernel_22348\\3398304813.py:26: SettingWithCopyWarning: \n",
      "A value is trying to be set on a copy of a slice from a DataFrame.\n",
      "Try using .loc[row_indexer,col_indexer] = value instead\n",
      "\n",
      "See the caveats in the documentation: https://pandas.pydata.org/pandas-docs/stable/user_guide/indexing.html#returning-a-view-versus-a-copy\n",
      "  df['date'] = pd.to_datetime(df['date']).dt.date\n"
     ]
    }
   ],
   "source": [
    "from datetime import datetime, timedelta\n",
    "\n",
    "\n",
    "def clean_date(date_str):\n",
    "    if not date_str or pd.isna(date_str):  \n",
    "        return None\n",
    "    \n",
    "    today = datetime.today().date()\n",
    "    if \"Today\" in date_str:\n",
    "        return today\n",
    "    elif \"Yesterday\" in date_str:\n",
    "        return today - timedelta(days=1)\n",
    "    else:\n",
    "        try:\n",
    "            return pd.to_datetime(date_str).date()  \n",
    "        except Exception:\n",
    "            return None  \n",
    "\n",
    "\n",
    "df['date'] = df['date'].apply(clean_date)\n",
    "\n",
    "\n",
    "df = df.dropna(subset=['date'])\n",
    "\n",
    "\n",
    "df['date'] = pd.to_datetime(df['date']).dt.date"
   ]
  },
  {
   "cell_type": "code",
   "execution_count": null,
   "metadata": {},
   "outputs": [],
   "source": []
  },
  {
   "cell_type": "markdown",
   "metadata": {},
   "source": [
    "f = lambda title: vader.polarity_scores(title)['compound']\n",
    "df['compound'] = df['title'].apply(f)\n",
    "df['date'] = pd.to_datetime(df.date).dt.date"
   ]
  },
  {
   "cell_type": "code",
   "execution_count": null,
   "metadata": {},
   "outputs": [
    {
     "name": "stderr",
     "output_type": "stream",
     "text": [
      "C:\\Users\\maxar\\AppData\\Local\\Temp\\ipykernel_22348\\1777814431.py:2: SettingWithCopyWarning: \n",
      "A value is trying to be set on a copy of a slice from a DataFrame.\n",
      "Try using .loc[row_indexer,col_indexer] = value instead\n",
      "\n",
      "See the caveats in the documentation: https://pandas.pydata.org/pandas-docs/stable/user_guide/indexing.html#returning-a-view-versus-a-copy\n",
      "  df['compound'] = pd.to_numeric(df['compound'], errors='coerce')\n"
     ]
    },
    {
     "data": {
      "text/plain": [
       "<Figure size 1000x800 with 0 Axes>"
      ]
     },
     "metadata": {},
     "output_type": "display_data"
    },
    {
     "data": {
      "image/png": "[encoded data removed]",
      "text/plain": [
       "<Figure size 640x480 with 1 Axes>"
      ]
     },
     "metadata": {},
     "output_type": "display_data"
    }
   ],
   "source": [
    "\n",
    "df['compound'] = pd.to_numeric(df['compound'], errors='coerce')\n",
    "\n",
    "\n",
    "df = df.dropna(subset=['compound'])\n",
    "\n",
    "\n",
    "mean_df = df.groupby(['ticker', 'date'])['compound'].mean().unstack()\n",
    "\n",
    "\n",
    "plt.figure(figsize=(10, 8))\n",
    "mean_df.plot(kind='bar')\n",
    "plt.show()"
   ]
  }
 ],
 "metadata": {
  "kernelspec": {
   "display_name": "base",
   "language": "python",
   "name": "python3"
  },
  "language_info": {
   "codemirror_mode": {
    "name": "ipython",
    "version": 3
   },
   "file_extension": ".py",
   "mimetype": "text/x-python",
   "name": "python",
   "nbconvert_exporter": "python",
   "pygments_lexer": "ipython3",
   "version": "3.12.3"
  }
 },
 "nbformat": 4,
 "nbformat_minor": 2
}
